{
 "cells": [
  {
   "cell_type": "code",
   "execution_count": 1,
   "id": "35eebf72",
   "metadata": {},
   "outputs": [],
   "source": [
    "import pandas as pd\n",
    "from sklearn.model_selection import train_test_split\n",
    "from sklearn.linear_model import LinearRegression\n",
    "from sklearn.metrics import mean_squared_error,mean_absolute_error,r2_score,accuracy_score\n"
   ]
  },
  {
   "cell_type": "code",
   "execution_count": 2,
   "id": "a910c267",
   "metadata": {},
   "outputs": [],
   "source": [
    "df = pd.read_csv(\"https://raw.githubusercontent.com/YBIFoundation/Dataset/main/Fish.csv\")"
   ]
  },
  {
   "cell_type": "code",
   "execution_count": 3,
   "id": "87a7ec9e",
   "metadata": {},
   "outputs": [
    {
     "data": {
      "text/html": [
       "<div>\n",
       "<style scoped>\n",
       "    .dataframe tbody tr th:only-of-type {\n",
       "        vertical-align: middle;\n",
       "    }\n",
       "\n",
       "    .dataframe tbody tr th {\n",
       "        vertical-align: top;\n",
       "    }\n",
       "\n",
       "    .dataframe thead th {\n",
       "        text-align: right;\n",
       "    }\n",
       "</style>\n",
       "<table border=\"1\" class=\"dataframe\">\n",
       "  <thead>\n",
       "    <tr style=\"text-align: right;\">\n",
       "      <th></th>\n",
       "      <th>Category</th>\n",
       "      <th>Species</th>\n",
       "      <th>Weight</th>\n",
       "      <th>Height</th>\n",
       "      <th>Width</th>\n",
       "      <th>Length1</th>\n",
       "      <th>Length2</th>\n",
       "      <th>Length3</th>\n",
       "    </tr>\n",
       "  </thead>\n",
       "  <tbody>\n",
       "    <tr>\n",
       "      <th>0</th>\n",
       "      <td>1</td>\n",
       "      <td>Bream</td>\n",
       "      <td>242.0</td>\n",
       "      <td>11.5200</td>\n",
       "      <td>4.0200</td>\n",
       "      <td>23.2</td>\n",
       "      <td>25.4</td>\n",
       "      <td>30.0</td>\n",
       "    </tr>\n",
       "    <tr>\n",
       "      <th>1</th>\n",
       "      <td>1</td>\n",
       "      <td>Bream</td>\n",
       "      <td>290.0</td>\n",
       "      <td>12.4800</td>\n",
       "      <td>4.3056</td>\n",
       "      <td>24.0</td>\n",
       "      <td>26.3</td>\n",
       "      <td>31.2</td>\n",
       "    </tr>\n",
       "    <tr>\n",
       "      <th>2</th>\n",
       "      <td>1</td>\n",
       "      <td>Bream</td>\n",
       "      <td>340.0</td>\n",
       "      <td>12.3778</td>\n",
       "      <td>4.6961</td>\n",
       "      <td>23.9</td>\n",
       "      <td>26.5</td>\n",
       "      <td>31.1</td>\n",
       "    </tr>\n",
       "    <tr>\n",
       "      <th>3</th>\n",
       "      <td>1</td>\n",
       "      <td>Bream</td>\n",
       "      <td>363.0</td>\n",
       "      <td>12.7300</td>\n",
       "      <td>4.4555</td>\n",
       "      <td>26.3</td>\n",
       "      <td>29.0</td>\n",
       "      <td>33.5</td>\n",
       "    </tr>\n",
       "    <tr>\n",
       "      <th>4</th>\n",
       "      <td>1</td>\n",
       "      <td>Bream</td>\n",
       "      <td>430.0</td>\n",
       "      <td>12.4440</td>\n",
       "      <td>5.1340</td>\n",
       "      <td>26.5</td>\n",
       "      <td>29.0</td>\n",
       "      <td>34.0</td>\n",
       "    </tr>\n",
       "  </tbody>\n",
       "</table>\n",
       "</div>"
      ],
      "text/plain": [
       "   Category Species  Weight   Height   Width  Length1  Length2  Length3\n",
       "0         1   Bream   242.0  11.5200  4.0200     23.2     25.4     30.0\n",
       "1         1   Bream   290.0  12.4800  4.3056     24.0     26.3     31.2\n",
       "2         1   Bream   340.0  12.3778  4.6961     23.9     26.5     31.1\n",
       "3         1   Bream   363.0  12.7300  4.4555     26.3     29.0     33.5\n",
       "4         1   Bream   430.0  12.4440  5.1340     26.5     29.0     34.0"
      ]
     },
     "execution_count": 3,
     "metadata": {},
     "output_type": "execute_result"
    }
   ],
   "source": [
    "df.head()"
   ]
  },
  {
   "cell_type": "code",
   "execution_count": 4,
   "id": "9e695047",
   "metadata": {},
   "outputs": [
    {
     "name": "stdout",
     "output_type": "stream",
     "text": [
      "<class 'pandas.core.frame.DataFrame'>\n",
      "RangeIndex: 159 entries, 0 to 158\n",
      "Data columns (total 8 columns):\n",
      " #   Column    Non-Null Count  Dtype  \n",
      "---  ------    --------------  -----  \n",
      " 0   Category  159 non-null    int64  \n",
      " 1   Species   159 non-null    object \n",
      " 2   Weight    159 non-null    float64\n",
      " 3   Height    159 non-null    float64\n",
      " 4   Width     159 non-null    float64\n",
      " 5   Length1   159 non-null    float64\n",
      " 6   Length2   159 non-null    float64\n",
      " 7   Length3   159 non-null    float64\n",
      "dtypes: float64(6), int64(1), object(1)\n",
      "memory usage: 10.1+ KB\n"
     ]
    }
   ],
   "source": [
    "df.info()"
   ]
  },
  {
   "cell_type": "code",
   "execution_count": 5,
   "id": "a171c923",
   "metadata": {},
   "outputs": [
    {
     "data": {
      "text/html": [
       "<div>\n",
       "<style scoped>\n",
       "    .dataframe tbody tr th:only-of-type {\n",
       "        vertical-align: middle;\n",
       "    }\n",
       "\n",
       "    .dataframe tbody tr th {\n",
       "        vertical-align: top;\n",
       "    }\n",
       "\n",
       "    .dataframe thead th {\n",
       "        text-align: right;\n",
       "    }\n",
       "</style>\n",
       "<table border=\"1\" class=\"dataframe\">\n",
       "  <thead>\n",
       "    <tr style=\"text-align: right;\">\n",
       "      <th></th>\n",
       "      <th>Category</th>\n",
       "      <th>Weight</th>\n",
       "      <th>Height</th>\n",
       "      <th>Width</th>\n",
       "      <th>Length1</th>\n",
       "      <th>Length2</th>\n",
       "      <th>Length3</th>\n",
       "    </tr>\n",
       "  </thead>\n",
       "  <tbody>\n",
       "    <tr>\n",
       "      <th>count</th>\n",
       "      <td>159.000000</td>\n",
       "      <td>159.000000</td>\n",
       "      <td>159.000000</td>\n",
       "      <td>159.000000</td>\n",
       "      <td>159.000000</td>\n",
       "      <td>159.000000</td>\n",
       "      <td>159.000000</td>\n",
       "    </tr>\n",
       "    <tr>\n",
       "      <th>mean</th>\n",
       "      <td>3.264151</td>\n",
       "      <td>398.326415</td>\n",
       "      <td>8.970994</td>\n",
       "      <td>4.417486</td>\n",
       "      <td>26.247170</td>\n",
       "      <td>28.415723</td>\n",
       "      <td>31.227044</td>\n",
       "    </tr>\n",
       "    <tr>\n",
       "      <th>std</th>\n",
       "      <td>1.704249</td>\n",
       "      <td>357.978317</td>\n",
       "      <td>4.286208</td>\n",
       "      <td>1.685804</td>\n",
       "      <td>9.996441</td>\n",
       "      <td>10.716328</td>\n",
       "      <td>11.610246</td>\n",
       "    </tr>\n",
       "    <tr>\n",
       "      <th>min</th>\n",
       "      <td>1.000000</td>\n",
       "      <td>0.000000</td>\n",
       "      <td>1.728400</td>\n",
       "      <td>1.047600</td>\n",
       "      <td>7.500000</td>\n",
       "      <td>8.400000</td>\n",
       "      <td>8.800000</td>\n",
       "    </tr>\n",
       "    <tr>\n",
       "      <th>25%</th>\n",
       "      <td>2.000000</td>\n",
       "      <td>120.000000</td>\n",
       "      <td>5.944800</td>\n",
       "      <td>3.385650</td>\n",
       "      <td>19.050000</td>\n",
       "      <td>21.000000</td>\n",
       "      <td>23.150000</td>\n",
       "    </tr>\n",
       "    <tr>\n",
       "      <th>50%</th>\n",
       "      <td>3.000000</td>\n",
       "      <td>273.000000</td>\n",
       "      <td>7.786000</td>\n",
       "      <td>4.248500</td>\n",
       "      <td>25.200000</td>\n",
       "      <td>27.300000</td>\n",
       "      <td>29.400000</td>\n",
       "    </tr>\n",
       "    <tr>\n",
       "      <th>75%</th>\n",
       "      <td>4.500000</td>\n",
       "      <td>650.000000</td>\n",
       "      <td>12.365900</td>\n",
       "      <td>5.584500</td>\n",
       "      <td>32.700000</td>\n",
       "      <td>35.500000</td>\n",
       "      <td>39.650000</td>\n",
       "    </tr>\n",
       "    <tr>\n",
       "      <th>max</th>\n",
       "      <td>7.000000</td>\n",
       "      <td>1650.000000</td>\n",
       "      <td>18.957000</td>\n",
       "      <td>8.142000</td>\n",
       "      <td>59.000000</td>\n",
       "      <td>63.400000</td>\n",
       "      <td>68.000000</td>\n",
       "    </tr>\n",
       "  </tbody>\n",
       "</table>\n",
       "</div>"
      ],
      "text/plain": [
       "         Category       Weight      Height       Width     Length1  \\\n",
       "count  159.000000   159.000000  159.000000  159.000000  159.000000   \n",
       "mean     3.264151   398.326415    8.970994    4.417486   26.247170   \n",
       "std      1.704249   357.978317    4.286208    1.685804    9.996441   \n",
       "min      1.000000     0.000000    1.728400    1.047600    7.500000   \n",
       "25%      2.000000   120.000000    5.944800    3.385650   19.050000   \n",
       "50%      3.000000   273.000000    7.786000    4.248500   25.200000   \n",
       "75%      4.500000   650.000000   12.365900    5.584500   32.700000   \n",
       "max      7.000000  1650.000000   18.957000    8.142000   59.000000   \n",
       "\n",
       "          Length2     Length3  \n",
       "count  159.000000  159.000000  \n",
       "mean    28.415723   31.227044  \n",
       "std     10.716328   11.610246  \n",
       "min      8.400000    8.800000  \n",
       "25%     21.000000   23.150000  \n",
       "50%     27.300000   29.400000  \n",
       "75%     35.500000   39.650000  \n",
       "max     63.400000   68.000000  "
      ]
     },
     "execution_count": 5,
     "metadata": {},
     "output_type": "execute_result"
    }
   ],
   "source": [
    "df.describe()"
   ]
  },
  {
   "cell_type": "code",
   "execution_count": 6,
   "id": "060103a5",
   "metadata": {},
   "outputs": [
    {
     "data": {
      "text/plain": [
       "Index(['Category', 'Species', 'Weight', 'Height', 'Width', 'Length1',\n",
       "       'Length2', 'Length3'],\n",
       "      dtype='object')"
      ]
     },
     "execution_count": 6,
     "metadata": {},
     "output_type": "execute_result"
    }
   ],
   "source": [
    "df.columns"
   ]
  },
  {
   "cell_type": "code",
   "execution_count": 7,
   "id": "a861f89c",
   "metadata": {},
   "outputs": [
    {
     "data": {
      "text/plain": [
       "(159, 8)"
      ]
     },
     "execution_count": 7,
     "metadata": {},
     "output_type": "execute_result"
    }
   ],
   "source": [
    "df.shape"
   ]
  },
  {
   "cell_type": "code",
   "execution_count": 8,
   "id": "e196208c",
   "metadata": {},
   "outputs": [],
   "source": [
    "x = df[['Category','Height', 'Width', 'Length1',\n",
    "       'Length2', 'Length3']]"
   ]
  },
  {
   "cell_type": "code",
   "execution_count": 9,
   "id": "46ceb9ad",
   "metadata": {},
   "outputs": [
    {
     "data": {
      "text/plain": [
       "(159, 6)"
      ]
     },
     "execution_count": 9,
     "metadata": {},
     "output_type": "execute_result"
    }
   ],
   "source": [
    "x.shape"
   ]
  },
  {
   "cell_type": "code",
   "execution_count": 10,
   "id": "77c0b644",
   "metadata": {},
   "outputs": [
    {
     "data": {
      "text/html": [
       "<div>\n",
       "<style scoped>\n",
       "    .dataframe tbody tr th:only-of-type {\n",
       "        vertical-align: middle;\n",
       "    }\n",
       "\n",
       "    .dataframe tbody tr th {\n",
       "        vertical-align: top;\n",
       "    }\n",
       "\n",
       "    .dataframe thead th {\n",
       "        text-align: right;\n",
       "    }\n",
       "</style>\n",
       "<table border=\"1\" class=\"dataframe\">\n",
       "  <thead>\n",
       "    <tr style=\"text-align: right;\">\n",
       "      <th></th>\n",
       "      <th>Category</th>\n",
       "      <th>Height</th>\n",
       "      <th>Width</th>\n",
       "      <th>Length1</th>\n",
       "      <th>Length2</th>\n",
       "      <th>Length3</th>\n",
       "    </tr>\n",
       "  </thead>\n",
       "  <tbody>\n",
       "    <tr>\n",
       "      <th>0</th>\n",
       "      <td>1</td>\n",
       "      <td>11.5200</td>\n",
       "      <td>4.0200</td>\n",
       "      <td>23.2</td>\n",
       "      <td>25.4</td>\n",
       "      <td>30.0</td>\n",
       "    </tr>\n",
       "    <tr>\n",
       "      <th>1</th>\n",
       "      <td>1</td>\n",
       "      <td>12.4800</td>\n",
       "      <td>4.3056</td>\n",
       "      <td>24.0</td>\n",
       "      <td>26.3</td>\n",
       "      <td>31.2</td>\n",
       "    </tr>\n",
       "    <tr>\n",
       "      <th>2</th>\n",
       "      <td>1</td>\n",
       "      <td>12.3778</td>\n",
       "      <td>4.6961</td>\n",
       "      <td>23.9</td>\n",
       "      <td>26.5</td>\n",
       "      <td>31.1</td>\n",
       "    </tr>\n",
       "    <tr>\n",
       "      <th>3</th>\n",
       "      <td>1</td>\n",
       "      <td>12.7300</td>\n",
       "      <td>4.4555</td>\n",
       "      <td>26.3</td>\n",
       "      <td>29.0</td>\n",
       "      <td>33.5</td>\n",
       "    </tr>\n",
       "    <tr>\n",
       "      <th>4</th>\n",
       "      <td>1</td>\n",
       "      <td>12.4440</td>\n",
       "      <td>5.1340</td>\n",
       "      <td>26.5</td>\n",
       "      <td>29.0</td>\n",
       "      <td>34.0</td>\n",
       "    </tr>\n",
       "    <tr>\n",
       "      <th>...</th>\n",
       "      <td>...</td>\n",
       "      <td>...</td>\n",
       "      <td>...</td>\n",
       "      <td>...</td>\n",
       "      <td>...</td>\n",
       "      <td>...</td>\n",
       "    </tr>\n",
       "    <tr>\n",
       "      <th>154</th>\n",
       "      <td>6</td>\n",
       "      <td>2.0904</td>\n",
       "      <td>1.3936</td>\n",
       "      <td>11.5</td>\n",
       "      <td>12.2</td>\n",
       "      <td>13.4</td>\n",
       "    </tr>\n",
       "    <tr>\n",
       "      <th>155</th>\n",
       "      <td>6</td>\n",
       "      <td>2.4300</td>\n",
       "      <td>1.2690</td>\n",
       "      <td>11.7</td>\n",
       "      <td>12.4</td>\n",
       "      <td>13.5</td>\n",
       "    </tr>\n",
       "    <tr>\n",
       "      <th>156</th>\n",
       "      <td>6</td>\n",
       "      <td>2.2770</td>\n",
       "      <td>1.2558</td>\n",
       "      <td>12.1</td>\n",
       "      <td>13.0</td>\n",
       "      <td>13.8</td>\n",
       "    </tr>\n",
       "    <tr>\n",
       "      <th>157</th>\n",
       "      <td>6</td>\n",
       "      <td>2.8728</td>\n",
       "      <td>2.0672</td>\n",
       "      <td>13.2</td>\n",
       "      <td>14.3</td>\n",
       "      <td>15.2</td>\n",
       "    </tr>\n",
       "    <tr>\n",
       "      <th>158</th>\n",
       "      <td>6</td>\n",
       "      <td>2.9322</td>\n",
       "      <td>1.8792</td>\n",
       "      <td>13.8</td>\n",
       "      <td>15.0</td>\n",
       "      <td>16.2</td>\n",
       "    </tr>\n",
       "  </tbody>\n",
       "</table>\n",
       "<p>159 rows × 6 columns</p>\n",
       "</div>"
      ],
      "text/plain": [
       "     Category   Height   Width  Length1  Length2  Length3\n",
       "0           1  11.5200  4.0200     23.2     25.4     30.0\n",
       "1           1  12.4800  4.3056     24.0     26.3     31.2\n",
       "2           1  12.3778  4.6961     23.9     26.5     31.1\n",
       "3           1  12.7300  4.4555     26.3     29.0     33.5\n",
       "4           1  12.4440  5.1340     26.5     29.0     34.0\n",
       "..        ...      ...     ...      ...      ...      ...\n",
       "154         6   2.0904  1.3936     11.5     12.2     13.4\n",
       "155         6   2.4300  1.2690     11.7     12.4     13.5\n",
       "156         6   2.2770  1.2558     12.1     13.0     13.8\n",
       "157         6   2.8728  2.0672     13.2     14.3     15.2\n",
       "158         6   2.9322  1.8792     13.8     15.0     16.2\n",
       "\n",
       "[159 rows x 6 columns]"
      ]
     },
     "execution_count": 10,
     "metadata": {},
     "output_type": "execute_result"
    }
   ],
   "source": [
    "x"
   ]
  },
  {
   "cell_type": "code",
   "execution_count": 11,
   "id": "e16c0d64",
   "metadata": {},
   "outputs": [],
   "source": [
    "y = df['Weight']"
   ]
  },
  {
   "cell_type": "code",
   "execution_count": 12,
   "id": "ebee31c7",
   "metadata": {},
   "outputs": [
    {
     "data": {
      "text/plain": [
       "(159,)"
      ]
     },
     "execution_count": 12,
     "metadata": {},
     "output_type": "execute_result"
    }
   ],
   "source": [
    "y.shape"
   ]
  },
  {
   "cell_type": "code",
   "execution_count": 13,
   "id": "1602adec",
   "metadata": {},
   "outputs": [
    {
     "data": {
      "text/plain": [
       "0      242.0\n",
       "1      290.0\n",
       "2      340.0\n",
       "3      363.0\n",
       "4      430.0\n",
       "       ...  \n",
       "154     12.2\n",
       "155     13.4\n",
       "156     12.2\n",
       "157     19.7\n",
       "158     19.9\n",
       "Name: Weight, Length: 159, dtype: float64"
      ]
     },
     "execution_count": 13,
     "metadata": {},
     "output_type": "execute_result"
    }
   ],
   "source": [
    "y"
   ]
  },
  {
   "cell_type": "code",
   "execution_count": 14,
   "id": "9b86adf9",
   "metadata": {},
   "outputs": [],
   "source": [
    "xtr,xte,ytr,yte = train_test_split(x,y,test_size=0.2,random_state=2529)"
   ]
  },
  {
   "cell_type": "code",
   "execution_count": 15,
   "id": "ca236b5f",
   "metadata": {},
   "outputs": [
    {
     "data": {
      "text/plain": [
       "(     Category   Height   Width  Length1  Length2  Length3\n",
       " 129         4   5.7078  4.1580     31.7     34.0     37.8\n",
       " 111         3  11.4884  7.7957     32.5     35.0     37.3\n",
       " 147         6   1.7284  1.1484     10.1     10.6     11.6\n",
       " 125         3  12.5125  7.4165     40.1     43.0     45.5\n",
       " 120         3  11.7300  7.2250     37.0     40.0     42.5\n",
       " ..        ...      ...     ...      ...      ...      ...\n",
       " 72          3   2.1120  1.4080      7.5      8.4      8.8\n",
       " 143         4   9.6000  6.1440     56.0     60.0     64.0\n",
       " 60          7  12.3540  6.5250     37.3     40.0     43.5\n",
       " 50          5   7.3968  4.1272     22.1     23.5     26.8\n",
       " 96          3   7.2930  3.7230     22.0     24.0     25.5\n",
       " \n",
       " [127 rows x 6 columns],\n",
       "      Category   Height   Width  Length1  Length2  Length3\n",
       " 6           1  14.1795  5.2785     26.8     29.7     34.5\n",
       " 54          5   9.4850  5.3550     29.5     31.7     35.0\n",
       " 80          3   5.1376  3.0368     17.8     19.6     20.8\n",
       " 138         4   7.7920  4.8700     43.2     46.0     48.7\n",
       " 91          3   5.8560  3.6240     20.5     22.5     24.0\n",
       " 48          5   7.5344  3.8352     22.0     24.0     27.2\n",
       " 52          5   8.8768  4.4968     24.0     26.0     29.2\n",
       " 103         3   7.1672  4.3350     25.4     27.5     28.9\n",
       " 57          7   8.7780  4.6816     25.6     28.0     30.8\n",
       " 149         6   2.0832  1.2772     10.7     11.2     12.4\n",
       " 153         6   2.2044  1.1484     11.4     12.0     13.2\n",
       " 108         3   7.6156  4.7716     27.8     30.0     31.6\n",
       " 90          3   5.5225  3.9950     20.0     22.0     23.5\n",
       " 118         3  12.4313  7.3514     36.6     39.0     41.3\n",
       " 131         4   6.2884  4.0198     34.8     37.3     39.8\n",
       " 100         3   6.5610  4.2390     23.5     25.6     27.0\n",
       " 15          1  15.4380  5.5800     29.4     32.0     37.2\n",
       " 46          5   6.5500  3.3250     21.0     22.5     25.0\n",
       " 132         4   7.2900  4.5765     35.5     38.0     40.5\n",
       " 79          3   5.6358  3.0502     17.2     19.0     20.2\n",
       " 64          2   8.3922  2.9181     17.5     19.0     21.3\n",
       " 35          5   4.1472  2.2680     12.9     14.1     16.2\n",
       " 133         4   6.3960  3.9770     36.0     38.5     41.0\n",
       " 116         3  11.1366  7.4934     36.5     39.0     41.4\n",
       " 31          1  18.0840  6.2920     35.0     38.5     44.0\n",
       " 146         6   1.9720  1.1600     10.0     10.5     11.6\n",
       " 53          5   8.5680  4.7736     25.0     27.0     30.6\n",
       " 28          1  16.8896  6.1984     32.8     36.0     41.6\n",
       " 1           1  12.4800  4.3056     24.0     26.3     31.2\n",
       " 117         3  11.1366  6.0030     36.5     39.0     41.4\n",
       " 9           1  14.2266  4.9594     28.5     30.7     36.2\n",
       " 12          1  13.7592  4.3680     29.1     31.5     36.4,\n",
       " 129     300.0\n",
       " 111     840.0\n",
       " 147       7.0\n",
       " 125    1100.0\n",
       " 120     900.0\n",
       "         ...  \n",
       " 72        5.9\n",
       " 143    1550.0\n",
       " 60     1000.0\n",
       " 50      200.0\n",
       " 96      225.0\n",
       " Name: Weight, Length: 127, dtype: float64,\n",
       " 6      500.0\n",
       " 54     390.0\n",
       " 80      85.0\n",
       " 138    567.0\n",
       " 91     130.0\n",
       " 48     169.0\n",
       " 52     290.0\n",
       " 103    260.0\n",
       " 57     306.0\n",
       " 149      9.8\n",
       " 153      9.8\n",
       " 108    320.0\n",
       " 90     110.0\n",
       " 118    820.0\n",
       " 131    300.0\n",
       " 100    197.0\n",
       " 15     600.0\n",
       " 46     140.0\n",
       " 132    430.0\n",
       " 79      80.0\n",
       " 64     120.0\n",
       " 35      40.0\n",
       " 133    345.0\n",
       " 116    900.0\n",
       " 31     955.0\n",
       " 146      7.5\n",
       " 53     272.0\n",
       " 28     850.0\n",
       " 1      290.0\n",
       " 117    650.0\n",
       " 9      500.0\n",
       " 12     500.0\n",
       " Name: Weight, dtype: float64)"
      ]
     },
     "execution_count": 15,
     "metadata": {},
     "output_type": "execute_result"
    }
   ],
   "source": [
    "xtr,xte,ytr,yte"
   ]
  },
  {
   "cell_type": "code",
   "execution_count": 16,
   "id": "ecc6bee3",
   "metadata": {},
   "outputs": [],
   "source": [
    "model = LinearRegression()"
   ]
  },
  {
   "cell_type": "code",
   "execution_count": 17,
   "id": "783bf4a5",
   "metadata": {},
   "outputs": [
    {
     "data": {
      "text/html": [
       "<style>#sk-container-id-1 {color: black;background-color: white;}#sk-container-id-1 pre{padding: 0;}#sk-container-id-1 div.sk-toggleable {background-color: white;}#sk-container-id-1 label.sk-toggleable__label {cursor: pointer;display: block;width: 100%;margin-bottom: 0;padding: 0.3em;box-sizing: border-box;text-align: center;}#sk-container-id-1 label.sk-toggleable__label-arrow:before {content: \"▸\";float: left;margin-right: 0.25em;color: #696969;}#sk-container-id-1 label.sk-toggleable__label-arrow:hover:before {color: black;}#sk-container-id-1 div.sk-estimator:hover label.sk-toggleable__label-arrow:before {color: black;}#sk-container-id-1 div.sk-toggleable__content {max-height: 0;max-width: 0;overflow: hidden;text-align: left;background-color: #f0f8ff;}#sk-container-id-1 div.sk-toggleable__content pre {margin: 0.2em;color: black;border-radius: 0.25em;background-color: #f0f8ff;}#sk-container-id-1 input.sk-toggleable__control:checked~div.sk-toggleable__content {max-height: 200px;max-width: 100%;overflow: auto;}#sk-container-id-1 input.sk-toggleable__control:checked~label.sk-toggleable__label-arrow:before {content: \"▾\";}#sk-container-id-1 div.sk-estimator input.sk-toggleable__control:checked~label.sk-toggleable__label {background-color: #d4ebff;}#sk-container-id-1 div.sk-label input.sk-toggleable__control:checked~label.sk-toggleable__label {background-color: #d4ebff;}#sk-container-id-1 input.sk-hidden--visually {border: 0;clip: rect(1px 1px 1px 1px);clip: rect(1px, 1px, 1px, 1px);height: 1px;margin: -1px;overflow: hidden;padding: 0;position: absolute;width: 1px;}#sk-container-id-1 div.sk-estimator {font-family: monospace;background-color: #f0f8ff;border: 1px dotted black;border-radius: 0.25em;box-sizing: border-box;margin-bottom: 0.5em;}#sk-container-id-1 div.sk-estimator:hover {background-color: #d4ebff;}#sk-container-id-1 div.sk-parallel-item::after {content: \"\";width: 100%;border-bottom: 1px solid gray;flex-grow: 1;}#sk-container-id-1 div.sk-label:hover label.sk-toggleable__label {background-color: #d4ebff;}#sk-container-id-1 div.sk-serial::before {content: \"\";position: absolute;border-left: 1px solid gray;box-sizing: border-box;top: 0;bottom: 0;left: 50%;z-index: 0;}#sk-container-id-1 div.sk-serial {display: flex;flex-direction: column;align-items: center;background-color: white;padding-right: 0.2em;padding-left: 0.2em;position: relative;}#sk-container-id-1 div.sk-item {position: relative;z-index: 1;}#sk-container-id-1 div.sk-parallel {display: flex;align-items: stretch;justify-content: center;background-color: white;position: relative;}#sk-container-id-1 div.sk-item::before, #sk-container-id-1 div.sk-parallel-item::before {content: \"\";position: absolute;border-left: 1px solid gray;box-sizing: border-box;top: 0;bottom: 0;left: 50%;z-index: -1;}#sk-container-id-1 div.sk-parallel-item {display: flex;flex-direction: column;z-index: 1;position: relative;background-color: white;}#sk-container-id-1 div.sk-parallel-item:first-child::after {align-self: flex-end;width: 50%;}#sk-container-id-1 div.sk-parallel-item:last-child::after {align-self: flex-start;width: 50%;}#sk-container-id-1 div.sk-parallel-item:only-child::after {width: 0;}#sk-container-id-1 div.sk-dashed-wrapped {border: 1px dashed gray;margin: 0 0.4em 0.5em 0.4em;box-sizing: border-box;padding-bottom: 0.4em;background-color: white;}#sk-container-id-1 div.sk-label label {font-family: monospace;font-weight: bold;display: inline-block;line-height: 1.2em;}#sk-container-id-1 div.sk-label-container {text-align: center;}#sk-container-id-1 div.sk-container {/* jupyter's `normalize.less` sets `[hidden] { display: none; }` but bootstrap.min.css set `[hidden] { display: none !important; }` so we also need the `!important` here to be able to override the default hidden behavior on the sphinx rendered scikit-learn.org. See: https://github.com/scikit-learn/scikit-learn/issues/21755 */display: inline-block !important;position: relative;}#sk-container-id-1 div.sk-text-repr-fallback {display: none;}</style><div id=\"sk-container-id-1\" class=\"sk-top-container\"><div class=\"sk-text-repr-fallback\"><pre>LinearRegression()</pre><b>In a Jupyter environment, please rerun this cell to show the HTML representation or trust the notebook. <br />On GitHub, the HTML representation is unable to render, please try loading this page with nbviewer.org.</b></div><div class=\"sk-container\" hidden><div class=\"sk-item\"><div class=\"sk-estimator sk-toggleable\"><input class=\"sk-toggleable__control sk-hidden--visually\" id=\"sk-estimator-id-1\" type=\"checkbox\" checked><label for=\"sk-estimator-id-1\" class=\"sk-toggleable__label sk-toggleable__label-arrow\">LinearRegression</label><div class=\"sk-toggleable__content\"><pre>LinearRegression()</pre></div></div></div></div></div>"
      ],
      "text/plain": [
       "LinearRegression()"
      ]
     },
     "execution_count": 17,
     "metadata": {},
     "output_type": "execute_result"
    }
   ],
   "source": [
    "model.fit(xtr,ytr)"
   ]
  },
  {
   "cell_type": "code",
   "execution_count": 18,
   "id": "3d5d9feb",
   "metadata": {},
   "outputs": [],
   "source": [
    "ypred = model.predict(xte)"
   ]
  },
  {
   "cell_type": "code",
   "execution_count": 19,
   "id": "2b3d5e26",
   "metadata": {},
   "outputs": [
    {
     "data": {
      "text/plain": [
       "array([ 476.86643295,  540.66835664,   77.16322236,  873.69696607,\n",
       "        163.69825313,  259.52982535,  371.75395168,  365.37873833,\n",
       "        508.50439138, -151.1687491 , -120.48006842,  437.82779751,\n",
       "        123.27113822,  843.60723082,  578.43789723,  280.63508384,\n",
       "        584.42396864,  228.7813599 ,  637.37908623,   84.69495178,\n",
       "        133.847848  ,  -86.98440228,  620.27263153,  766.00235827,\n",
       "        858.27514579, -168.79990451,  355.16534082,  725.94867879,\n",
       "        318.83600766,  800.67445695,  488.99334856,  533.91017872])"
      ]
     },
     "execution_count": 19,
     "metadata": {},
     "output_type": "execute_result"
    }
   ],
   "source": [
    "ypred"
   ]
  },
  {
   "cell_type": "code",
   "execution_count": 20,
   "id": "cf9c46ce",
   "metadata": {},
   "outputs": [
    {
     "data": {
      "text/plain": [
       "18008.103403677196"
      ]
     },
     "execution_count": 20,
     "metadata": {},
     "output_type": "execute_result"
    }
   ],
   "source": [
    "mean_squared_error(yte,ypred)"
   ]
  },
  {
   "cell_type": "code",
   "execution_count": 21,
   "id": "bc05f78b",
   "metadata": {},
   "outputs": [
    {
     "data": {
      "text/plain": [
       "105.669733148005"
      ]
     },
     "execution_count": 21,
     "metadata": {},
     "output_type": "execute_result"
    }
   ],
   "source": [
    "mean_absolute_error(yte,ypred)"
   ]
  },
  {
   "cell_type": "code",
   "execution_count": 22,
   "id": "2138b9e9",
   "metadata": {},
   "outputs": [
    {
     "data": {
      "text/plain": [
       "0.7481748619568283"
      ]
     },
     "execution_count": 22,
     "metadata": {},
     "output_type": "execute_result"
    }
   ],
   "source": [
    "r2_score(yte,ypred)"
   ]
  },
  {
   "cell_type": "code",
   "execution_count": 23,
   "id": "8c8523a8",
   "metadata": {},
   "outputs": [
    {
     "data": {
      "text/plain": [
       "-691.3250288803833"
      ]
     },
     "execution_count": 23,
     "metadata": {},
     "output_type": "execute_result"
    }
   ],
   "source": [
    "model.intercept_"
   ]
  },
  {
   "cell_type": "code",
   "execution_count": 24,
   "id": "de786664",
   "metadata": {},
   "outputs": [
    {
     "data": {
      "text/plain": [
       "array([ 35.85557127,  51.20106452, -23.26361962,  20.66453768,\n",
       "        68.226642  , -59.44966564])"
      ]
     },
     "execution_count": 24,
     "metadata": {},
     "output_type": "execute_result"
    }
   ],
   "source": [
    "model.coef_"
   ]
  },
  {
   "cell_type": "code",
   "execution_count": 25,
   "id": "0cf2d736",
   "metadata": {},
   "outputs": [
    {
     "data": {
      "text/plain": [
       "0.8914623962585758"
      ]
     },
     "execution_count": 25,
     "metadata": {},
     "output_type": "execute_result"
    }
   ],
   "source": [
    "model.score(x,y)"
   ]
  },
  {
   "cell_type": "code",
   "execution_count": null,
   "id": "f447dbbf",
   "metadata": {},
   "outputs": [],
   "source": []
  }
 ],
 "metadata": {
  "kernelspec": {
   "display_name": "Python 3 (ipykernel)",
   "language": "python",
   "name": "python3"
  },
  "language_info": {
   "codemirror_mode": {
    "name": "ipython",
    "version": 3
   },
   "file_extension": ".py",
   "mimetype": "text/x-python",
   "name": "python",
   "nbconvert_exporter": "python",
   "pygments_lexer": "ipython3",
   "version": "3.11.7"
  }
 },
 "nbformat": 4,
 "nbformat_minor": 5
}
